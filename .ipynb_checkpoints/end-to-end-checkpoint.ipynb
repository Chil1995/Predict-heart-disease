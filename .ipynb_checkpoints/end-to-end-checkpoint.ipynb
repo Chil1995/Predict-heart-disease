{
 "cells": [
  {
   "cell_type": "markdown",
   "id": "763c661d",
   "metadata": {},
   "source": [
    "# Predict heart disease\n",
    "\n",
    "This notebook is used to predict heart disease using varoius machine learning and data science libraries in an attempt to build a machine learning model heart disease based on data provided by a hospital\n",
    "\n",
    "1. Problem definition\n",
    "2. Data\n",
    "3. Evaluation\n",
    "4. Features\n",
    "5. Modelling\n",
    "6. Experimentation\n",
    "\n",
    "## 1. problem definition\n",
    "\n",
    "In a statement\n",
    "> Given clinical data parameters about a patient, canwe predict wheather or not they have heart disease?\n",
    "\n",
    "## 2. Data\n",
    "\n",
    "> The original data came from the Cleveland database from the UCI Machine Learning Repository.\n",
    "\n",
    "> There is also a version of it is avialable in a link: https://www.kaggle.com/ronitf/heart-disease-uci\n",
    "\n",
    "## 3. Evaluation\n",
    "> "
   ]
  },
  {
   "cell_type": "markdown",
   "id": "3dcd9f6d",
   "metadata": {},
   "source": [
    "### Create data dictionary\n",
    "\n",
    "> age\n",
    "`age in years`\n",
    "\n",
    "> sex\n",
    "`(1 = male; 0 = female)`\n",
    "\n",
    "> cp\n",
    "`chest pain type`\n",
    "\n",
    "> trestbps\n",
    "`resting blood pressure (in mm Hg on admission to the hospital)`\n",
    "\n",
    "> chol\n",
    "`serum cholestoral in mg/dl`\n",
    "\n",
    "> fbs\n",
    "`(fasting blood sugar &gt; 120 mg/dl) (1 = true; 0 = false)`\n",
    "\n",
    "> restecg\n",
    "`resting electrocardiographic results`\n",
    "\n",
    "> thalach\n",
    "`maximum heart rate achieved`\n",
    "\n",
    "> exang\n",
    "`exercise induced angina (1 = yes; 0 = no)`\n",
    "\n",
    "> oldpeak\n",
    "`ST depression induced by exercise relative to rest`\n",
    "\n",
    "> slope\n",
    "`the slope of the peak exercise ST segment`\n",
    "\n",
    "> ca\n",
    "`number of major vessels (0-3) colored by flourosopy`\n",
    "\n",
    "> thal\n",
    "`3 = normal; 6 = fixed defect; 7 = reversable defect`\n",
    "\n",
    "> target\n",
    "`1 or 0` "
   ]
  },
  {
   "cell_type": "code",
   "execution_count": null,
   "id": "f3aa53d6",
   "metadata": {},
   "outputs": [],
   "source": []
  }
 ],
 "metadata": {
  "kernelspec": {
   "display_name": "Python 3",
   "language": "python",
   "name": "python3"
  },
  "language_info": {
   "codemirror_mode": {
    "name": "ipython",
    "version": 3
   },
   "file_extension": ".py",
   "mimetype": "text/x-python",
   "name": "python",
   "nbconvert_exporter": "python",
   "pygments_lexer": "ipython3",
   "version": "3.9.6"
  }
 },
 "nbformat": 4,
 "nbformat_minor": 5
}
