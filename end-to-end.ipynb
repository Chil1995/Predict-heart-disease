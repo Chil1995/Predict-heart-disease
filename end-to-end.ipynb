{
 "cells": [
  {
   "cell_type": "markdown",
   "source": [
    "# Predict heart disease\n",
    "\n",
    "This notebook is used to predict heart disease using varoius machine learning and data science libraries in an attempt to build a machine learning model heart disease based on data provided by a hospital\n",
    "\n",
    "1. Problem definition\n",
    "2. Data\n",
    "3. Evaluation\n",
    "4. Features\n",
    "5. Modelling\n",
    "6. Experimentation\n",
    "\n",
    "## 1. problem definition\n",
    "\n",
    "In a statement\n",
    "> Given clinical data parameters about a patient, canwe predict wheather or not they have heart disease?\n",
    "\n",
    "## 2. Data\n",
    "\n",
    "> The original data came from the Cleveland database from the UCI Machine Learning Repository.\n",
    "\n",
    "> There is also a version of it is avialable in a link: https://www.kaggle.com/ronitf/heart-disease-uci\n",
    "\n",
    "## 3. Evaluation\n",
    "> "
   ],
   "metadata": {}
  },
  {
   "cell_type": "markdown",
   "source": [
    "### Create data dictionary\r\n",
    "\r\n",
    "> age\r\n",
    "`age in years`\r\n",
    "\r\n",
    "> sex\r\n",
    "`(1 = male; 0 = female)`\r\n",
    "\r\n",
    "> cp\r\n",
    "`chest pain type`\r\n",
    "\r\n",
    "> trestbps\r\n",
    "`resting blood pressure (in mm Hg on admission to the hospital)`\r\n",
    "\r\n",
    "> chol\r\n",
    "`serum cholestoral in mg/dl`\r\n",
    "\r\n",
    "> fbs\r\n",
    "`(fasting blood sugar &gt; 120 mg/dl) (1 = true; 0 = false)`\r\n",
    "\r\n",
    "> restecg\r\n",
    "`resting electrocardiographic results`\r\n",
    "\r\n",
    "> thalach\r\n",
    "`maximum heart rate achieved`\r\n",
    "\r\n",
    "> exang\r\n",
    "`exercise induced angina (1 = yes; 0 = no)`\r\n",
    "\r\n",
    "> oldpeak\r\n",
    "`ST depression induced by exercise relative to rest`\r\n",
    "\r\n",
    "> slope\r\n",
    "`the slope of the peak exercise ST segment`\r\n",
    "\r\n",
    "> ca\r\n",
    "`number of major vessels (0-3) colored by flourosopy`\r\n",
    "\r\n",
    "> thal\r\n",
    "`3 = normal; 6 = fixed defect; 7 = reversable defect`\r\n",
    "\r\n",
    "> target\r\n",
    "`1 or 0` "
   ],
   "metadata": {}
  },
  {
   "cell_type": "code",
   "execution_count": null,
   "source": [],
   "outputs": [],
   "metadata": {}
  }
 ],
 "metadata": {
  "kernelspec": {
   "display_name": "Python 3",
   "language": "python",
   "name": "python3"
  },
  "language_info": {
   "codemirror_mode": {
    "name": "ipython",
    "version": 3
   },
   "file_extension": ".py",
   "mimetype": "text/x-python",
   "name": "python",
   "nbconvert_exporter": "python",
   "pygments_lexer": "ipython3",
   "version": "3.9.5"
  }
 },
 "nbformat": 4,
 "nbformat_minor": 5
}